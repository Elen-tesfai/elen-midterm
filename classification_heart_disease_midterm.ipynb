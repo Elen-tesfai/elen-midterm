{
 "cells": [
  {
   "cell_type": "markdown",
   "id": "7c8acff6",
   "metadata": {},
   "source": [
    "## Section 1: Import and Inspect the Data\n",
    "\n",
    "### 1.1 Load the Dataset and Display the First 10 Rows\n",
    "\n",
    "In this section, we load the dataset and display the first 10 rows to inspect its structure and understand the features. The dataset contains various medical attributes that will help predict the target variable, which indicates whether a patient has heart disease.\n"
   ]
  },
  {
   "cell_type": "code",
   "execution_count": 5,
   "id": "1fd403fc-bfcd-4903-b6de-f09536abbb5a",
   "metadata": {},
   "outputs": [
    {
     "name": "stdout",
     "output_type": "stream",
     "text": [
      "Libraries imported successfully\n",
      "Data loaded successfully\n",
      "   Feature1  Feature2  Target\n",
      "0         1         5       0\n",
      "1         2         4       1\n",
      "2         3         3       0\n",
      "3         4         2       1\n",
      "4         5         1       0\n"
     ]
    }
   ],
   "source": [
    "# Importing necessary libraries\n",
    "import pandas as pd\n",
    "import numpy as np\n",
    "import matplotlib.pyplot as plt\n",
    "import seaborn as sns\n",
    "from sklearn.model_selection import train_test_split\n",
    "from sklearn.preprocessing import StandardScaler\n",
    "from sklearn.ensemble import RandomForestClassifier\n",
    "from sklearn.metrics import accuracy_score, confusion_matrix, classification_report\n",
    "\n",
    "print(\"Libraries imported successfully\")\n",
    "\n",
    "# Example: Create a simple dataset for testing\n",
    "data = {'Feature1': [1, 2, 3, 4, 5], 'Feature2': [5, 4, 3, 2, 1], 'Target': [0, 1, 0, 1, 0]}\n",
    "df = pd.DataFrame(data)\n",
    "\n",
    "print(\"Data loaded successfully\")\n",
    "print(df.head())"
   ]
  },
  {
   "cell_type": "code",
   "execution_count": null,
   "id": "29d436c5",
   "metadata": {},
   "outputs": [],
   "source": []
  }
 ],
 "metadata": {
  "kernelspec": {
   "display_name": "venv",
   "language": "python",
   "name": "python3"
  },
  "language_info": {
   "codemirror_mode": {
    "name": "ipython",
    "version": 3
   },
   "file_extension": ".py",
   "mimetype": "text/x-python",
   "name": "python",
   "nbconvert_exporter": "python",
   "pygments_lexer": "ipython3",
   "version": "3.10.11"
  }
 },
 "nbformat": 4,
 "nbformat_minor": 5
}
